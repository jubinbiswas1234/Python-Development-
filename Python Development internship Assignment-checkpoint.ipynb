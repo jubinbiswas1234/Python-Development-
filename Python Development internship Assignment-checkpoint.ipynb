{
 "cells": [
  {
   "cell_type": "code",
   "execution_count": 1,
   "metadata": {},
   "outputs": [
    {
     "name": "stdout",
     "output_type": "stream",
     "text": [
      "banana\n",
      "Stuart 21\n"
     ]
    }
   ],
   "source": [
    "#the minion game\n",
    "def minion_game(s):\n",
    "    vowels = 'AEIOU'\n",
    "\n",
    "    kevsc = 0\n",
    "    stusc = 0\n",
    "    for i in range(len(s)):\n",
    "        if s[i] in vowels:\n",
    "            kevsc += (len(s)-i)\n",
    "        else:\n",
    "            stusc += (len(s)-i)\n",
    "\n",
    "    if kevsc > stusc:\n",
    "        print (\"Kevin\", kevsc)\n",
    "    elif kevsc < stusc:\n",
    "        print (\"Stuart\", stusc)\n",
    "    else:\n",
    "        print (\"Draw\")    \n",
    "\n",
    "\n",
    "if __name__ == '__main__':\n",
    "    s = input()\n",
    "    minion_game(s)"
   ]
  },
  {
   "cell_type": "code",
   "execution_count": null,
   "metadata": {},
   "outputs": [
    {
     "name": "stdout",
     "output_type": "stream",
     "text": [
      "AABCAAADA\n",
      "3\n",
      "AB\n",
      "CA\n",
      "AD\n"
     ]
    }
   ],
   "source": [
    "#merge the tool\n",
    "def merge_the_tools(string, k):\n",
    "    # your code goes here\n",
    "    S = string\n",
    "S, N = input(), int(input()) \n",
    "for part in zip(*[iter(S)] * N):\n",
    "    d = dict()\n",
    "    print (''.join([ d.setdefault(c, c) for c in part if c not in d ]))\n",
    "if __name__ == '__main__':\n",
    "    string, k = input(), int(input())\n",
    "    merge_the_tools(string, k)"
   ]
  },
  {
   "cell_type": "code",
   "execution_count": 3,
   "metadata": {},
   "outputs": [
    {
     "name": "stdout",
     "output_type": "stream",
     "text": [
      "2\n",
      "Sun 10 May 2015 13:54:36 -0700\n",
      "Sun 10 May 2015 13:54:36 -0000\n",
      "25200\n",
      "Sat 02 May 2015 19:54:36 +0530\n",
      "Fri 01 May 2015 13:54:36 -0000\n",
      "88200\n"
     ]
    }
   ],
   "source": [
    "#time delta\n",
    "#!/bin/python3\n",
    "import datetime\n",
    "\n",
    "def read_datetime():\n",
    "    return datetime.datetime.strptime(input(), '%a %d %b %Y %H:%M:%S %z')\n",
    "\n",
    "def main():\n",
    "    T = int(input())\n",
    "    for _ in range(T):\n",
    "        t1 = read_datetime()\n",
    "        t2 = read_datetime()\n",
    "        \n",
    "        print(int(abs(t1 - t2).total_seconds()))\n",
    "\n",
    "if __name__ == '__main__':\n",
    "    main()\n",
    "\n"
   ]
  },
  {
   "cell_type": "code",
   "execution_count": 4,
   "metadata": {},
   "outputs": [
    {
     "name": "stdout",
     "output_type": "stream",
     "text": [
      "10\n",
      "10\n",
      "45°\n"
     ]
    }
   ],
   "source": [
    "#find angle MBC\n",
    "# Enter your code here. Read input from STDIN. Print output to STDOUT\n",
    "import math\n",
    "AB = float(input())\n",
    "BC = float(input())\n",
    "\n",
    "print(str(int(round(math.degrees(math.atan2(AB, BC)))))+'°')\n"
   ]
  },
  {
   "cell_type": "code",
   "execution_count": 1,
   "metadata": {},
   "outputs": [
    {
     "name": "stdout",
     "output_type": "stream",
     "text": [
      "3 2\n",
      "1 5 3\n",
      "3 1\n",
      "5 7\n",
      "1\n"
     ]
    }
   ],
   "source": [
    "#no idea\n",
    "# Enter your code here. Read input from STDIN. Print output to STDOUT\n",
    "n,m=map(int,input().split())\n",
    "l=input().split(' ')\n",
    "A=set(input().split(' '))\n",
    "B=set(input().split(' '))\n",
    "happiness=0\n",
    "\n",
    "for i in l:\n",
    "    if i in A:\n",
    "        happiness+=1\n",
    "    if i in B:\n",
    "        happiness-=1\n",
    "print(happiness)\n",
    "\n"
   ]
  },
  {
   "cell_type": "code",
   "execution_count": 2,
   "metadata": {},
   "outputs": [
    {
     "name": "stdout",
     "output_type": "stream",
     "text": [
      "4\n",
      "bcdef\n",
      "abcdefg\n",
      "bcde\n",
      "bcdef\n",
      "3\n",
      "2 1 1\n"
     ]
    }
   ],
   "source": [
    "#word order\n",
    "# Enter your code here. Read input from STDIN. Print output to STDOUT\n",
    "from collections import Counter, OrderedDict\n",
    "class OrderedCounter(Counter, OrderedDict):\n",
    "    pass\n",
    "d = OrderedCounter(input() for _ in range(int(input())))\n",
    "print(len(d))\n",
    "print(*d.values())\n"
   ]
  },
  {
   "cell_type": "code",
   "execution_count": 3,
   "metadata": {},
   "outputs": [
    {
     "name": "stdout",
     "output_type": "stream",
     "text": [
      "1222311\n",
      "(1, 1) (3, 2) (1, 3) (2, 1)\n"
     ]
    }
   ],
   "source": [
    "#compress the string\n",
    "# Enter your code here. Read input from STDIN. Print output to STDOUT\n",
    "\n",
    "from itertools import groupby\n",
    "print(*[(len(list(c)), int(k)) for k, c in groupby(input())])\n"
   ]
  },
  {
   "cell_type": "code",
   "execution_count": null,
   "metadata": {},
   "outputs": [
    {
     "name": "stdout",
     "output_type": "stream",
     "text": [
      "aabbbccde\n",
      "b 3\n",
      "a 2\n",
      "c 2\n"
     ]
    }
   ],
   "source": [
    "#company logo\n",
    "#!/bin/python3\n",
    "\n",
    "import math\n",
    "import os\n",
    "import random\n",
    "import re\n",
    "import sys\n",
    "from collections import Counter\n",
    "for each in Counter(sorted(input())).most_common(3): print(*each)\n",
    "if __name__ == '__main__':\n",
    "    s = input()"
   ]
  },
  {
   "cell_type": "code",
   "execution_count": 2,
   "metadata": {},
   "outputs": [
    {
     "name": "stdout",
     "output_type": "stream",
     "text": [
      "2\n",
      "6\n",
      "4 3 2 1 3 4\n",
      "Yes\n",
      "3\n",
      "1 3 2\n",
      "No\n"
     ]
    }
   ],
   "source": [
    "#piling up\n",
    "# Enter your code here. Read input from STDIN. Print output to STDOUT\n",
    "for t in range(int(input())):\n",
    "    input()\n",
    "    lst = [int(i) for i in input().split()]\n",
    "    min_list = lst.index(min(lst))\n",
    "    left = lst[:min_list]\n",
    "    right = lst[min_list+1:]\n",
    "    if left == sorted(left,reverse=True) and right == sorted(right):\n",
    "        print(\"Yes\")\n",
    "    else:\n",
    "        print(\"No\")\n"
   ]
  },
  {
   "cell_type": "code",
   "execution_count": 3,
   "metadata": {},
   "outputs": [
    {
     "name": "stdout",
     "output_type": "stream",
     "text": [
      "5\n",
      "1\n",
      "121\n",
      "12321\n",
      "1234321\n",
      "123454321\n"
     ]
    }
   ],
   "source": [
    "#triangle quest 2\n",
    "for i in range(1,int(input())+1): \n",
    "    print(((10**i -1)//9)*((10**i -1)//9))\n"
   ]
  },
  {
   "cell_type": "code",
   "execution_count": 4,
   "metadata": {},
   "outputs": [
    {
     "name": "stdout",
     "output_type": "stream",
     "text": [
      "4\n",
      "a a c d\n",
      "2\n",
      "0.833\n"
     ]
    }
   ],
   "source": [
    "#Iterables and Iterators\n",
    "# Enter your code here. Read input from STDIN. Print output to STDOUT\n",
    "from itertools import combinations\n",
    "\n",
    "N = int(input())\n",
    "L = input().split()\n",
    "K = int(input())\n",
    "\n",
    "C = list(combinations(L, K))\n",
    "F = filter(lambda c: 'a' in c, C)\n",
    "print(\"{0:.3}\".format(len(list(F))/len(C)))\n"
   ]
  },
  {
   "cell_type": "code",
   "execution_count": 9,
   "metadata": {},
   "outputs": [
    {
     "name": "stdout",
     "output_type": "stream",
     "text": [
      "5\n",
      "1\n",
      "22\n",
      "333\n",
      "4444\n"
     ]
    }
   ],
   "source": [
    "#Triangle Quest\n",
    "for i in range(1,int(input())):\n",
    "    print([0, 1, 22, 333, 4444, 55555, 666666, 7777777, 88888888, 999999999][i])\n"
   ]
  },
  {
   "cell_type": "code",
   "execution_count": 10,
   "metadata": {},
   "outputs": [
    {
     "name": "stdout",
     "output_type": "stream",
     "text": [
      "2 1 \n",
      "5 6\n",
      "7.00+7.00i\n",
      "-3.00-5.00i\n",
      "4.00+17.00i\n",
      "0.26-0.11i\n",
      "2.24+0.00i\n",
      "7.81+0.00i\n"
     ]
    }
   ],
   "source": [
    "#Classes: Dealing with Complex Numbers\n",
    "import math\n",
    "from math import pow\n",
    "class Complex(object):\n",
    "    def __init__(self, real, imaginary):\n",
    "        self.real=real\n",
    "        self.imaginary=imaginary\n",
    "    def __add__(self, no):\n",
    "        a=self.real+no.real\n",
    "        b=self.imaginary+no.imaginary\n",
    "        if a<0 and b<0:\n",
    "            return (\"-%.2f-%.2fi\"%(abs(a),abs(b)))\n",
    "        elif a>=0 and b<0:\n",
    "            return (\"%.2f-%.2fi\"%(abs(a),abs(b)))\n",
    "        elif a<0and b>=0:\n",
    "            return (\"-%.2f+%.2fi\"%(abs(a),abs(b)))\n",
    "        elif a>=0and b>=0:\n",
    "            return (\"%.2f+%.2fi\"%(abs(a),abs(b)))\n",
    "    def __sub__(self, no):\n",
    "        a=self.real-no.real\n",
    "        b=self.imaginary-no.imaginary\n",
    "        if a<0 and b<0:\n",
    "            return (\"-%.2f-%.2fi\"%(abs(a),abs(b)))\n",
    "        elif a>=0 and b<0:\n",
    "            return (\"%.2f-%.2fi\"%(abs(a),abs(b)))\n",
    "        elif a<0and b>=0:\n",
    "            return (\"-%.2f+%.2fi\"%(abs(a),abs(b)))\n",
    "        elif a>=0and b>=0:\n",
    "            return (\"%.2f+%.2fi\"%(abs(a),abs(b)))\n",
    "    \n",
    "    def __mul__(self, no):\n",
    "        a=self.real*no.real-self.imaginary*no.imaginary\n",
    "        b=no.imaginary*self.real+self.imaginary*no.real\n",
    "        if a<0 and b<0:\n",
    "            return (\"-%.2f-%.2fi\"%(abs(a),abs(b)))\n",
    "        elif a>=0 and b<0:\n",
    "            return (\"%.2f-%.2fi\"%(abs(a),abs(b)))\n",
    "        elif a<0and b>=0:\n",
    "            return (\"-%.2f+%.2fi\"%(abs(a),abs(b)))\n",
    "        elif a>=0and b>=0:\n",
    "            return (\"%.2f+%.2fi\"%(abs(a),abs(b)))\n",
    "    def __truediv__(self, no):\n",
    "        x=no.real**2+no.imaginary**2\n",
    "        a=(self.real*no.real+self.imaginary*no.imaginary)/x\n",
    "        b=(-no.imaginary*self.real+self.imaginary*no.real)/x\n",
    "        if a<0 and b<0:\n",
    "            return (\"-%.2f-%.2fi\"%(abs(a),abs(b)))\n",
    "        elif a>=0 and b<0:\n",
    "            return (\"%.2f-%.2fi\"%(abs(a),abs(b)))\n",
    "        elif a<0and b>=0:\n",
    "            return (\"-%.2f+%.2fi\"%(abs(a),abs(b)))\n",
    "        elif a>=0and b>=0:\n",
    "            return (\"%.2f+%.2fi\"%(abs(a),abs(b)))\n",
    "        \n",
    "    def mod(self):\n",
    "        a=pow(self.real**2+self.imaginary**2, 0.5)\n",
    "        b=0\n",
    "        if a<0 and b<0:\n",
    "            return (\"-%.2f-%.2fi\"%(abs(a),abs(b)))\n",
    "        elif a>=0 and b<0:\n",
    "            return (\"%.2f-%.2fi\"%(abs(a),abs(b)))\n",
    "        elif a<0and b>=0:\n",
    "            return (\"-%.2f+%.2fi\"%(abs(a),abs(b)))\n",
    "        elif a>=0and b>=0:\n",
    "            return (\"%.2f+%.2fi\"%(abs(a),abs(b)))\n",
    "\n",
    "if __name__ == '__main__':\n",
    "    c = map(float, input().split())\n",
    "    d = map(float, input().split())\n",
    "    x = Complex(*c)\n",
    "    y = Complex(*d)\n",
    "    print(*map(str, [x+y, x-y, x*y, x/y, x.mod(), y.mod()]), sep='\\n')"
   ]
  },
  {
   "cell_type": "code",
   "execution_count": 11,
   "metadata": {},
   "outputs": [
    {
     "name": "stdout",
     "output_type": "stream",
     "text": [
      "3\n",
      "1 2 \n",
      "3 4\n",
      "10 6\n",
      "5 8\n"
     ]
    }
   ],
   "source": [
    "#Reduce Function\n",
    "from fractions import Fraction\n",
    "from functools import reduce\n",
    "import operator\n",
    "def product(fracs):\n",
    "    t =  reduce(operator.mul , fracs) # complete this line with a reduce statement\n",
    "    return t.numerator, t.denominator\n",
    "if __name__ == '__main__':\n",
    "    fracs = []\n",
    "    for _ in range(int(input())):\n",
    "        fracs.append(Fraction(*map(int, input().split())))\n",
    "    result = product(fracs)\n",
    "    print(*result)"
   ]
  },
  {
   "cell_type": "code",
   "execution_count": null,
   "metadata": {},
   "outputs": [],
   "source": []
  }
 ],
 "metadata": {
  "kernelspec": {
   "display_name": "Python 3",
   "language": "python",
   "name": "python3"
  },
  "language_info": {
   "codemirror_mode": {
    "name": "ipython",
    "version": 3
   },
   "file_extension": ".py",
   "mimetype": "text/x-python",
   "name": "python",
   "nbconvert_exporter": "python",
   "pygments_lexer": "ipython3",
   "version": "3.6.5"
  }
 },
 "nbformat": 4,
 "nbformat_minor": 2
}
